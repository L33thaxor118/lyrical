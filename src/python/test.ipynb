{
  "cells": [
    {
      "cell_type": "code",
      "execution_count": null,
      "metadata": {
        "colab": {
          "base_uri": "https://localhost:8080/",
          "height": 143
        },
        "id": "fL5WFt1qjGHD",
        "outputId": "5e68e4e0-8d47-4631-eb2f-ba98146d772b"
      },
      "outputs": [
        {
          "ename": "SyntaxError",
          "evalue": "ignored",
          "output_type": "error",
          "traceback": [
            "\u001b[0;36m  File \u001b[0;32m\"<ipython-input-5-a5473d0ade4a>\"\u001b[0;36m, line \u001b[0;32m1\u001b[0m\n\u001b[0;31m    hola sashah\u001b[0m\n\u001b[0m         ^\u001b[0m\n\u001b[0;31mSyntaxError\u001b[0m\u001b[0;31m:\u001b[0m invalid syntax\n"
          ]
        }
      ],
      "source": [
        "import preprocessing\n",
        "import nlp\n",
        "from sklearn.metrics.pairwise import cosine_similarity\n",
        "import numpy as np\n",
        "\n",
        "def test():\n",
        "    lyric_embeddings = []\n",
        "\n",
        "    for i in range(1, 6):\n",
        "        with open(f\"./testLyrics/lyrics{i}.txt\", \"r\", encoding=\"utf-8\") as file:\n",
        "            song_content = file.read()\n",
        "        \n",
        "        preprocessed_lyrics = preprocessing.preprocess_lyrics(song_content)\n",
        "        embedding = nlp.produce_embedding(preprocessed_lyrics)\n",
        "        lyric_embeddings.append(embedding)\n",
        "\n",
        "    test_string = \"This is another string to compare\"\n",
        "    test_embedding = nlp.produce_embedding(test_string)\n",
        "    similarities = cosine_similarity([test_embedding], lyric_embeddings)\n",
        "\n",
        "    most_similar_index = np.argmax(similarities)\n",
        "    print(most_similar_index)"
      ]
    }
  ],
  "metadata": {
    "colab": {
      "provenance": []
    },
    "kernelspec": {
      "display_name": "Python 3",
      "name": "python3"
    },
    "language_info": {
      "name": "python"
    }
  },
  "nbformat": 4,
  "nbformat_minor": 0
}
